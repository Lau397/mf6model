{
 "cells": [
  {
   "cell_type": "code",
   "execution_count": 1,
   "metadata": {},
   "outputs": [],
   "source": [
    "import os\n",
    "import sys\n",
    "import flopy as fp\n",
    "import numpy as np\n",
    "import matplotlib.pyplot as plt\n",
    "import pandas as pd\n",
    "import pyemu\n",
    "plt.rcParams['font.size']=12"
   ]
  },
  {
   "cell_type": "code",
   "execution_count": 2,
   "metadata": {},
   "outputs": [],
   "source": [
    "workspace = \"workspace\"\n",
    "model_name = \"mf6model\"\n",
    "exe_name=\"mf6.exe\"\n",
    "\n",
    "nrow = 280\n",
    "ncol = 240"
   ]
  },
  {
   "cell_type": "code",
   "execution_count": 3,
   "metadata": {},
   "outputs": [
    {
     "data": {
      "text/plain": [
       "<matplotlib.colorbar.Colorbar at 0x1a4ed62e880>"
      ]
     },
     "execution_count": 3,
     "metadata": {},
     "output_type": "execute_result"
    },
    {
     "data": {
      "image/png": "[encoded data removed]",
      "text/plain": [
       "<Figure size 432x288 with 2 Axes>"
      ]
     },
     "metadata": {
      "needs_background": "light"
     },
     "output_type": "display_data"
    }
   ],
   "source": [
    "plt.imshow(fp.utils.HeadFile(\"workspace/{}.hds\".format(model_name)).get_data((0,0))[0])\n",
    "plt.colorbar()"
   ]
  },
  {
   "cell_type": "code",
   "execution_count": 4,
   "metadata": {},
   "outputs": [
    {
     "name": "stdout",
     "output_type": "stream",
     "text": [
      "loading simulation...\n",
      "  loading simulation name file...\n",
      "  loading tdis package...\n",
      "  loading model gwf6...\n",
      "    loading package dis...\n",
      "    loading package ic...\n",
      "    loading package npf...\n",
      "    loading package chd...\n",
      "    loading package riv...\n",
      "    loading package obs...\n",
      "    loading package oc...\n",
      "  loading ims package mf6model...\n",
      "   could not remove start_datetime\n"
     ]
    }
   ],
   "source": [
    "sim = fp.mf6.MFSimulation.load(sim_ws=workspace)\n",
    "m = sim.get_model(model_name)\n",
    "sr = pyemu.helpers.SpatialReference.from_namfile(\n",
    "        os.path.join(workspace, \"{}.nam\".format(model_name)),\n",
    "        delr=m.dis.delr.array, delc=m.dis.delc.array)"
   ]
  },
  {
   "cell_type": "code",
   "execution_count": 5,
   "metadata": {},
   "outputs": [
    {
     "name": "stdout",
     "output_type": "stream",
     "text": [
      "2020-12-29 21:26:07.797018 starting: opening PstFrom.log for logging\n",
      "2020-12-29 21:26:07.798017 starting PstFrom process\n",
      "2020-12-29 21:26:07.809010 starting: setting up dirs\n",
      "2020-12-29 21:26:07.810011 starting: copying original_d 'workspace' to new_d 'template'\n",
      "2020-12-29 21:26:08.053859 finished: copying original_d 'workspace' to new_d 'template' took: 0:00:00.243848\n",
      "2020-12-29 21:26:08.056857 finished: setting up dirs took: 0:00:00.247847\n"
     ]
    }
   ],
   "source": [
    "# empty pst from object\n",
    "template_ws = \"template\"\n",
    "pf = pyemu.utils.PstFrom(original_d=workspace, new_d=template_ws,\n",
    "                 remove_existing=True,\n",
    "                 longnames=True, spatial_reference=sr,\n",
    "                 zero_based=False)"
   ]
  },
  {
   "cell_type": "code",
   "execution_count": 6,
   "metadata": {},
   "outputs": [
    {
     "name": "stdout",
     "output_type": "stream",
     "text": [
      "2020-12-29 21:26:08.104828 starting: adding observations from tabular output file\n",
      "2020-12-29 21:26:08.106826 starting: reading list template\\heads.csv\n",
      "2020-12-29 21:26:08.119818 finished: reading list template\\heads.csv took: 0:00:00.012992\n",
      "2020-12-29 21:26:08.120817 starting: building insfile for tabular output file heads.csv\n",
      "2020-12-29 21:26:08.252737 finished: building insfile for tabular output file heads.csv took: 0:00:00.131920\n",
      "2020-12-29 21:26:08.254734 starting: adding observation from instruction file 'template\\heads.csv.ins'\n",
      "2020-12-29 21:26:08.314697 finished: adding observation from instruction file 'template\\heads.csv.ins' took: 0:00:00.059963\n",
      "2020-12-29 21:26:08.320693 finished: adding observations from tabular output file took: 0:00:00.215865\n",
      "noptmax:30, npar_adj:0, nnz_obs:33\n"
     ]
    },
    {
     "data": {
      "text/plain": [
       "<pyemu.pst.pst_handler.Pst at 0x1a4e9ff6400>"
      ]
     },
     "execution_count": 6,
     "metadata": {},
     "output_type": "execute_result"
    }
   ],
   "source": [
    "#add observation\n",
    "df = pd.read_csv(os.path.join(template_ws,\"heads.csv\"),index_col=0)\n",
    "\n",
    "hds_df = pf.add_observations(\"heads.csv\",insfile=\"heads.csv.ins\",index_cols=\"time\",\n",
    "                use_cols=list(df.columns.values),prefix=\"hds\",obsgp=False)\n",
    "\n",
    "case = \"pest_test\"\n",
    "pf.build_pst(\"{}.pst\".format(case))"
   ]
  },
  {
   "cell_type": "code",
   "execution_count": 7,
   "metadata": {},
   "outputs": [
    {
     "name": "stdout",
     "output_type": "stream",
     "text": [
      "spatial variogram\n"
     ]
    },
    {
     "data": {
      "image/png": "[encoded data removed]",
      "text/plain": [
       "<Figure size 576x288 with 1 Axes>"
      ]
     },
     "metadata": {
      "needs_background": "light"
     },
     "output_type": "display_data"
    }
   ],
   "source": [
    "# a = ppspace*3.0\n",
    "v = pyemu.geostats.GauVario(contribution=1.0,a=300)\n",
    "grid_gs = pyemu.geostats.GeoStruct(variograms=v, transform='log')\n",
    "\n",
    "fig = plt.figure(figsize=(8,4))\n",
    "grid_gs.plot()\n",
    "print(\"spatial variogram\")"
   ]
  },
  {
   "cell_type": "code",
   "execution_count": 8,
   "metadata": {},
   "outputs": [],
   "source": [
    "# set an homogeneous k array (as initial value)\n",
    "k = 1e-4*np.ones([nrow,ncol])\n",
    "filnm = \"k.txt\"\n",
    "np.savetxt(os.path.join(template_ws,filnm),k)"
   ]
  },
  {
   "cell_type": "code",
   "execution_count": 9,
   "metadata": {},
   "outputs": [
    {
     "name": "stdout",
     "output_type": "stream",
     "text": [
      "2020-12-29 21:26:10.494191 starting: adding pilotpoint type multiplier style parameters for file(s) ['k.txt']\n",
      "2020-12-29 21:26:10.494191 starting: loading array template\\k.txt\n",
      "2020-12-29 21:26:10.677077 finished: loading array template\\k.txt took: 0:00:00.182886\n",
      "2020-12-29 21:26:10.678078 loaded array 'k.txt' of shape (280, 240)\n",
      "2020-12-29 21:26:10.842977 starting: writing array-based template file 'kp_inst0_pilotpoint.csv.tpl'\n",
      "2020-12-29 21:26:10.843975 starting: setting up pilot point parameters\n",
      "2020-12-29 21:26:10.843975 No spatial reference (containing cell spacing) passed.\n",
      "2020-12-29 21:26:10.844977 OK - using spatial reference in parent object.\n",
      "ibound not passed, using array of ones\n",
      "2020-12-29 21:26:10.929923 4 pilot point parameters created\n",
      "2020-12-29 21:26:10.929923 pilot point 'pargp':kp_inst:0\n",
      "2020-12-29 21:26:10.930922 finished: setting up pilot point parameters took: 0:00:00.086947\n",
      "2020-12-29 21:26:10.935917 starting: calculating factors for pargp=kp_inst:0\n",
      "2020-12-29 21:26:10.936917 saving krige variance file:template\\kp_inst0pp.var.dat\n",
      "2020-12-29 21:26:10.936917 saving krige factors file:template\\kp_inst0pp.fac\n",
      "starting interp point loop for 67200 points\n",
      "starting 0\n",
      "starting 1\n",
      "starting 2\n",
      "starting 3\n",
      "starting 4\n",
      "starting 5\n",
      "starting 6\n",
      "starting 7\n",
      "starting 8\n",
      "starting 9\n"
     ]
    },
    {
     "name": "stderr",
     "output_type": "stream",
     "text": [
      "C:\\Users\\Administrador\\anaconda3\\lib\\site-packages\\numpy\\core\\_asarray.py:83: VisibleDeprecationWarning: Creating an ndarray from ragged nested sequences (which is a list-or-tuple of lists-or-tuples-or ndarrays with different lengths or shapes) is deprecated. If you meant to do this, you must specify 'dtype=object' when creating the ndarray\n",
      "  return array(a, dtype, copy=False, order=order)\n"
     ]
    },
    {
     "name": "stdout",
     "output_type": "stream",
     "text": [
      "took 473.25227 seconds\n",
      "2020-12-29 21:34:06.868915 finished: calculating factors for pargp=kp_inst:0 took: 0:07:55.932998\n",
      "2020-12-29 21:34:06.869912 starting: writing array-based template file 'kp_inst0pp.dat.tpl'\n",
      "2020-12-29 21:34:06.889898 finished: adding pilotpoint type multiplier style parameters for file(s) ['k.txt'] took: 0:07:56.395707\n"
     ]
    }
   ],
   "source": [
    "pf.add_parameters(filenames=\"k.txt\",par_type=\"pilotpoint\",pp_space=100,\n",
    "                   par_name_base=\"kp\",pargp=\"hp\",\n",
    "                   upper_bound=10.,lower_bound=0.1,geostruct=grid_gs)"
   ]
  },
  {
   "cell_type": "code",
   "execution_count": 10,
   "metadata": {},
   "outputs": [
    {
     "name": "stdout",
     "output_type": "stream",
     "text": [
      "noptmax:30, npar_adj:4, nnz_obs:33\n",
      "2020-12-29 21:34:07.256395 forward_run line:pyemu.os_utils.run(r'..\\mf6')\n",
      "\n"
     ]
    },
    {
     "data": {
      "text/plain": [
       "<pyemu.pst.pst_handler.Pst at 0x1a4eede72e0>"
      ]
     },
     "execution_count": 10,
     "metadata": {},
     "output_type": "execute_result"
    }
   ],
   "source": [
    "# add run model command\n",
    "pf.mod_sys_cmds.append(\"..\\mf6\")\n",
    "pf.build_pst(\"{}.pst\".format(case))"
   ]
  },
  {
   "cell_type": "code",
   "execution_count": 11,
   "metadata": {},
   "outputs": [],
   "source": [
    "#Rewrite ins file because Pyemu isn't smart enough\n",
    "\n",
    "file = \"template/heads.csv.ins\"\n",
    "fileout = \"template/heads2.csv.ins\"\n",
    "with open(file) as f:\n",
    "    with open(fileout,\"w\") as fout:\n",
    "        for i,line in enumerate(f):\n",
    "            if i < 2:\n",
    "                fout.write(line)\n",
    "            if i > 1:\n",
    "                for o,split in enumerate(line.split(\"w\")):\n",
    "                    if o == 1:\n",
    "                        fout.write(\"~,~\")\n",
    "                    fout.write(split)\n",
    "                        \n",
    "from shutil import copyfile\n",
    "copyfile(fileout, file) # copy \n",
    "os.remove(fileout) # delete tmp file"
   ]
  },
  {
   "cell_type": "code",
   "execution_count": 12,
   "metadata": {},
   "outputs": [
    {
     "name": "stdout",
     "output_type": "stream",
     "text": [
      "noptmax:30, npar_adj:4, nnz_obs:33\n",
      "2020-12-29 21:34:07.564208 WARNING: sys_cmd 'pyemu.os_utils.run(r'..\\mf6')\n",
      "' already in sys cmds, skipping...\n",
      "2020-12-29 21:34:07.595188 starting: building prior covariance matrix\n",
      "2020-12-29 21:34:07.605181 saving prior covariance matrix to file template\\pest_test.prior.cov\n",
      "2020-12-29 21:34:07.612178 finished: building prior covariance matrix took: 0:00:00.016990\n"
     ]
    },
    {
     "data": {
      "image/png": "[encoded data removed]",
      "text/plain": [
       "<Figure size 504x504 with 1 Axes>"
      ]
     },
     "metadata": {
      "needs_background": "light"
     },
     "output_type": "display_data"
    }
   ],
   "source": [
    "pst = pf.build_pst(\"{}.pst\".format(case))\n",
    "cov = pf.build_prior()\n",
    "x = cov.x.copy()\n",
    "x[x==0.0] = np.NaN\n",
    "fig,ax = plt.subplots(1,1,figsize=(7,7))\n",
    "g = ax.imshow(x)"
   ]
  },
  {
   "cell_type": "code",
   "execution_count": 13,
   "metadata": {},
   "outputs": [
    {
     "name": "stdout",
     "output_type": "stream",
     "text": [
      "noptmax:-1, npar_adj:4, nnz_obs:33\n"
     ]
    }
   ],
   "source": [
    "t_d = \"template\"\n",
    "m_d = \"master_glm\"\n",
    "\n",
    "pst.control_data.noptmax = -1 # FOR JACOBIAN\n",
    "pst.write(os.path.join(t_d,\"{}.pst\".format(case)))"
   ]
  },
  {
   "cell_type": "code",
   "execution_count": 14,
   "metadata": {},
   "outputs": [],
   "source": [
    "# calculate\n",
    "n = 4 #select number of workers\n",
    "pyemu.os_utils.start_workers(t_d,\"../pestpp-glm.exe\",\"{}.pst\".format(case),num_workers=n,worker_root=\".\",master_dir=m_d)"
   ]
  },
  {
   "cell_type": "code",
   "execution_count": 15,
   "metadata": {},
   "outputs": [
    {
     "data": {
      "text/html": [
       "<div>\n",
       "<style scoped>\n",
       "    .dataframe tbody tr th:only-of-type {\n",
       "        vertical-align: middle;\n",
       "    }\n",
       "\n",
       "    .dataframe tbody tr th {\n",
       "        vertical-align: top;\n",
       "    }\n",
       "\n",
       "    .dataframe thead th {\n",
       "        text-align: right;\n",
       "    }\n",
       "</style>\n",
       "<table border=\"1\" class=\"dataframe\">\n",
       "  <thead>\n",
       "    <tr style=\"text-align: right;\">\n",
       "      <th></th>\n",
       "      <th>type</th>\n",
       "      <th>transform</th>\n",
       "      <th>count</th>\n",
       "      <th>initial value</th>\n",
       "      <th>upper bound</th>\n",
       "      <th>lower bound</th>\n",
       "      <th>standard deviation</th>\n",
       "    </tr>\n",
       "  </thead>\n",
       "  <tbody>\n",
       "    <tr>\n",
       "      <th>kp_inst:0</th>\n",
       "      <td>kp_inst:0</td>\n",
       "      <td>log</td>\n",
       "      <td>4</td>\n",
       "      <td>0</td>\n",
       "      <td>1</td>\n",
       "      <td>-1</td>\n",
       "      <td>0.5</td>\n",
       "    </tr>\n",
       "  </tbody>\n",
       "</table>\n",
       "</div>"
      ],
      "text/plain": [
       "                type transform  count initial value upper bound lower bound  \\\n",
       "kp_inst:0  kp_inst:0       log      4             0           1          -1   \n",
       "\n",
       "          standard deviation  \n",
       "kp_inst:0                0.5  "
      ]
     },
     "execution_count": 15,
     "metadata": {},
     "output_type": "execute_result"
    }
   ],
   "source": [
    "t_d =\"master_glm\"\n",
    "case=\"pest_test\"\n",
    "pst = pyemu.Pst(os.path.join(t_d,\"{}.pst\".format(case)))\n",
    "pst.write_par_summary_table(filename=\"none\")"
   ]
  },
  {
   "cell_type": "code",
   "execution_count": 16,
   "metadata": {},
   "outputs": [
    {
     "name": "stdout",
     "output_type": "stream",
     "text": [
      "noptmax:9, npar_adj:4, nnz_obs:33\n"
     ]
    }
   ],
   "source": [
    "pyemu.helpers.zero_order_tikhonov(pst)\n",
    "pst.control_data.pestmode = \"regularization\"\n",
    "pst.control_data.noptmax = 9 \n",
    "pst.pestpp_options[\"n_iter_base\"] = -1 \n",
    "pst.pestpp_options[\"n_iter_super\"] = 4 \n",
    "pst.pestpp_options[\"glm_num_reals\"] = 50 \n",
    "pst.pestpp_options[\"parcov\"] = \"{}.prior.cov\".format(case) \n",
    "pst.pestpp_options[\"base_jacobian\"] = \"{}.jcb\".format(case) \n",
    "pst.write(os.path.join(t_d,\"{}.pst\".format(case)))"
   ]
  },
  {
   "cell_type": "code",
   "execution_count": 17,
   "metadata": {},
   "outputs": [],
   "source": [
    "m_d = \"master_glm_run\"\n",
    "pyemu.os_utils.start_workers(t_d,\"../pestpp-glm\",\"{}.pst\".format(case),num_workers=n,worker_root=\".\",\n",
    "                           master_dir=m_d)"
   ]
  },
  {
   "cell_type": "code",
   "execution_count": null,
   "metadata": {},
   "outputs": [],
   "source": []
  },
  {
   "cell_type": "code",
   "execution_count": null,
   "metadata": {},
   "outputs": [],
   "source": []
  }
 ],
 "metadata": {
  "kernelspec": {
   "display_name": "Python 3",
   "language": "python",
   "name": "python3"
  },
  "language_info": {
   "codemirror_mode": {
    "name": "ipython",
    "version": 3
   },
   "file_extension": ".py",
   "mimetype": "text/x-python",
   "name": "python",
   "nbconvert_exporter": "python",
   "pygments_lexer": "ipython3",
   "version": "3.8.5"
  }
 },
 "nbformat": 4,
 "nbformat_minor": 4
}
